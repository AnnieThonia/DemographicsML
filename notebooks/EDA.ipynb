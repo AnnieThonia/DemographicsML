{
 "cells": [
  {
   "cell_type": "markdown",
   "id": "74650959-8431-47f7-bb62-66fb53d02fb9",
   "metadata": {},
   "source": [
    "# Life cycle of Machine learning Project\n",
    "- Life cycle of Machine learning Project\n",
    "- Understanding the Problem Statement\n",
    "- Data Collection\n",
    "- Data Checks to perform\n",
    "- Exploratory data analysis\n",
    "- Data Pre-Processing\n",
    "- Model Training\n",
    "- Choose best model"
   ]
  },
  {
   "cell_type": "markdown",
   "id": "8e969b6d-f4e2-4dca-9eac-57bdcdc18f09",
   "metadata": {},
   "source": [
    "## **1) Problem statement**"
   ]
  },
  {
   "cell_type": "markdown",
   "id": "d6c3626b-be54-4696-a3ba-5b24535f7d5d",
   "metadata": {},
   "source": [
    "This project understands and develops a predictive model for estimating house prices aiming to address various challenges and needs within the real estate market. Key potential problems that this analysis seeks to solve include:\n",
    "    - **Facilitating Real Estate Investment Decisions:** Investors require accurate estimates of house prices to guide their investment decisions in the real estate market.\n",
    "    - **Empowering Home Sellers with Competitive Pricing:** Homeowners need assistance in setting competitive listing prices for their properties to attract potential buyers and maximize returns on their investments.\n",
    "    - **Assisting Home Buyers in Informed Purchasing:** Prospective buyers seek reliable information on property prices to make informed decisions about purchasing homes.\n",
    "    - **Enhancing Market Analysis for Real Estate Professionals:** Real estate agents and professionals require comprehensive market analysis tools to provide clients with valuable insights into property values and market trends.\n",
    "    - **Supporting Risk Management for Lenders:** Lenders and financial institutions need accurate assessments of property values to manage risks associated with mortgage loans.\n",
    "\n",
    "Addressing these challenges through the development of a predictive model will contribute to improved decision-making processes and enhanced efficiency within the real estate market."
   ]
  },
  {
   "cell_type": "markdown",
   "id": "aa639600-9c99-494d-a13a-05c1fe24a3f2",
   "metadata": {},
   "source": [
    "## **2) Data Collection**"
   ]
  },
  {
   "cell_type": "markdown",
   "id": "4f7e5728-e7ae-4d34-b6a1-08dcee6b7787",
   "metadata": {},
   "source": [
    "Dataset Source - https://www.realtor.com/\n",
    "The data consists of 10 columns (2.2 Million+ entries)"
   ]
  },
  {
   "cell_type": "markdown",
   "id": "0e2fc2d5-392a-43c7-b17e-546ae178a08f",
   "metadata": {},
   "source": [
    "### 2.1 Import Data and Required Packages"
   ]
  },
  {
   "cell_type": "code",
   "execution_count": null,
   "id": "aacab96c-60f8-4eea-97c2-219fc751a269",
   "metadata": {},
   "outputs": [],
   "source": []
  }
 ],
 "metadata": {
  "kernelspec": {
   "display_name": "Python 3 (ipykernel)",
   "language": "python",
   "name": "python3"
  },
  "language_info": {
   "codemirror_mode": {
    "name": "ipython",
    "version": 3
   },
   "file_extension": ".py",
   "mimetype": "text/x-python",
   "name": "python",
   "nbconvert_exporter": "python",
   "pygments_lexer": "ipython3",
   "version": "3.11.5"
  }
 },
 "nbformat": 4,
 "nbformat_minor": 5
}

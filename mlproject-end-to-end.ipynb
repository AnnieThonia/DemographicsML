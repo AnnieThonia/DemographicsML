{
 "cells": [
  {
   "cell_type": "markdown",
   "id": "4b78e191-2788-45c9-aaaf-9beb6bcc0cb5",
   "metadata": {},
   "source": [
    "# Initialize Git, Pull and Push to GitHub"
   ]
  },
  {
   "cell_type": "code",
   "execution_count": null,
   "id": "a0a97362-6250-4e23-a2e8-91d4f034fb16",
   "metadata": {},
   "outputs": [],
   "source": [
    "# !pip install --upgrade jupyterlab jupyterlab-git"
   ]
  },
  {
   "cell_type": "code",
   "execution_count": 1,
   "id": "7e7d5f33-3f0e-4a9b-968d-cd1f90e386d4",
   "metadata": {},
   "outputs": [
    {
     "name": "stdout",
     "output_type": "stream",
     "text": [
      "Reinitialized existing Git repository in D:/iCloudDrive/Resumes/BA/ATS/Portfolio Projects/Demographic Analysis/mlproject-end-to-end/.git/\n",
      "Already up to date.\n"
     ]
    },
    {
     "name": "stderr",
     "output_type": "stream",
     "text": [
      "From https://github.com/AnnieThonia/mlproject-end-to-end\n",
      " * branch            main       -> FETCH_HEAD\n"
     ]
    }
   ],
   "source": [
    "# Initialize Git in your project directory:\n",
    "!git init\n",
    "!git pull origin main"
   ]
  },
  {
   "cell_type": "code",
   "execution_count": 2,
   "id": "9c9f86a0-1ae7-4c41-a99a-c9295f0e769c",
   "metadata": {},
   "outputs": [
    {
     "name": "stderr",
     "output_type": "stream",
     "text": [
      "warning: in the working copy of 'mlproject-end-to-end.ipynb', LF will be replaced by CRLF the next time Git touches it\n",
      "warning: in the working copy of 'myenv1/etc/jupyter/jupyter_notebook_config.d/nbdime.json', LF will be replaced by CRLF the next time Git touches it\n",
      "warning: in the working copy of 'myenv1/etc/jupyter/jupyter_server_config.d/jupyterlab_git.json', LF will be replaced by CRLF the next time Git touches it\n",
      "warning: in the working copy of 'myenv1/etc/jupyter/jupyter_server_config.d/nbdime.json', LF will be replaced by CRLF the next time Git touches it\n",
      "warning: in the working copy of 'myenv1/etc/jupyter/nbconfig/notebook.d/nbdime.json', LF will be replaced by CRLF the next time Git touches it\n",
      "warning: in the working copy of 'myenv1/share/jupyter/labextensions/@jupyterlab/git/install.json', LF will be replaced by CRLF the next time Git touches it\n",
      "warning: in the working copy of 'myenv1/share/jupyter/labextensions/@jupyterlab/git/package.json', LF will be replaced by CRLF the next time Git touches it\n",
      "warning: in the working copy of 'myenv1/share/jupyter/labextensions/@jupyterlab/git/schemas/@jupyterlab/git/package.json.orig', LF will be replaced by CRLF the next time Git touches it\n",
      "warning: in the working copy of 'myenv1/share/jupyter/labextensions/@jupyterlab/git/schemas/@jupyterlab/git/plugin.json', LF will be replaced by CRLF the next time Git touches it\n",
      "warning: in the working copy of 'myenv1/share/jupyter/labextensions/@jupyterlab/git/static/338.e6e982cc684fe40f637d.js', LF will be replaced by CRLF the next time Git touches it\n",
      "warning: in the working copy of 'myenv1/share/jupyter/labextensions/@jupyterlab/git/static/338.e6e982cc684fe40f637d.js.LICENSE.txt', LF will be replaced by CRLF the next time Git touches it\n",
      "warning: in the working copy of 'myenv1/share/jupyter/labextensions/@jupyterlab/git/static/612.8bf475b8be2d5fd16884.js', LF will be replaced by CRLF the next time Git touches it\n",
      "warning: in the working copy of 'myenv1/share/jupyter/labextensions/@jupyterlab/git/static/66.0acb8c62ba019743ba5b.js', LF will be replaced by CRLF the next time Git touches it\n",
      "warning: in the working copy of 'myenv1/share/jupyter/labextensions/@jupyterlab/git/static/66.0acb8c62ba019743ba5b.js.LICENSE.txt', LF will be replaced by CRLF the next time Git touches it\n",
      "warning: in the working copy of 'myenv1/share/jupyter/labextensions/@jupyterlab/git/static/881.42c4dde967f7d347bc86.js', LF will be replaced by CRLF the next time Git touches it\n",
      "warning: in the working copy of 'myenv1/share/jupyter/labextensions/@jupyterlab/git/static/881.42c4dde967f7d347bc86.js.LICENSE.txt', LF will be replaced by CRLF the next time Git touches it\n",
      "warning: in the working copy of 'myenv1/share/jupyter/labextensions/@jupyterlab/git/static/967.2aaf8ca7c37a92081b62.js', LF will be replaced by CRLF the next time Git touches it\n",
      "warning: in the working copy of 'myenv1/share/jupyter/labextensions/@jupyterlab/git/static/967.2aaf8ca7c37a92081b62.js.LICENSE.txt', LF will be replaced by CRLF the next time Git touches it\n",
      "warning: in the working copy of 'myenv1/share/jupyter/labextensions/@jupyterlab/git/static/style.js', LF will be replaced by CRLF the next time Git touches it\n",
      "warning: in the working copy of 'myenv1/share/jupyter/labextensions/@jupyterlab/git/static/third-party-licenses.json', LF will be replaced by CRLF the next time Git touches it\n",
      "warning: in the working copy of 'myenv1/share/jupyter/labextensions/nbdime-jupyterlab/package.json', LF will be replaced by CRLF the next time Git touches it\n",
      "warning: in the working copy of 'myenv1/share/jupyter/labextensions/nbdime-jupyterlab/schemas/nbdime-jupyterlab/package.json.orig', LF will be replaced by CRLF the next time Git touches it\n",
      "warning: in the working copy of 'myenv1/share/jupyter/labextensions/nbdime-jupyterlab/schemas/nbdime-jupyterlab/plugin.json', LF will be replaced by CRLF the next time Git touches it\n",
      "warning: in the working copy of 'myenv1/share/jupyter/labextensions/nbdime-jupyterlab/static/style.js', LF will be replaced by CRLF the next time Git touches it\n",
      "warning: in the working copy of 'myenv1/share/jupyter/labextensions/nbdime-jupyterlab/static/third-party-licenses.json', LF will be replaced by CRLF the next time Git touches it\n",
      "warning: in the working copy of 'myenv1/share/jupyter/nbextensions/nbdime/index.js', LF will be replaced by CRLF the next time Git touches it\n",
      "warning: in the working copy of 'myenv1/share/jupyter/nbextensions/nbdime/nbdime.yaml', LF will be replaced by CRLF the next time Git touches it\n"
     ]
    }
   ],
   "source": [
    "# Add your files to the staging area:\n",
    "git config --global core.autocrlf false\n",
    "!git add ."
   ]
  },
  {
   "cell_type": "code",
   "execution_count": null,
   "id": "99d9f4e4-f754-4060-8492-813bf5a7a4c4",
   "metadata": {},
   "outputs": [],
   "source": [
    "# Commit your changes:\n",
    "!git commit -m \"first commit\" \n",
    "# Rename branch to main\n",
    "!git branch -M main \n",
    "!git remote add origin https://github.com/AnnieThonia/mlproject-end-to-end.git\n",
    "!git remote -v \n",
    "!git push -u origin main"
   ]
  },
  {
   "cell_type": "code",
   "execution_count": null,
   "id": "067b7559-5df8-44a5-be9e-c325135a2001",
   "metadata": {},
   "outputs": [],
   "source": []
  }
 ],
 "metadata": {
  "kernelspec": {
   "display_name": "Python 3 (ipykernel)",
   "language": "python",
   "name": "python3"
  },
  "language_info": {
   "codemirror_mode": {
    "name": "ipython",
    "version": 3
   },
   "file_extension": ".py",
   "mimetype": "text/x-python",
   "name": "python",
   "nbconvert_exporter": "python",
   "pygments_lexer": "ipython3",
   "version": "3.11.5"
  }
 },
 "nbformat": 4,
 "nbformat_minor": 5
}

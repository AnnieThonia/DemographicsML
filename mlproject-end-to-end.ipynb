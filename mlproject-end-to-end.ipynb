{
 "cells": [
  {
   "cell_type": "code",
   "execution_count": 2,
   "id": "e847c47a-b9d6-4a34-b915-fec25ed4c5dc",
   "metadata": {},
   "outputs": [
    {
     "name": "stdout",
     "output_type": "stream",
     "text": [
      "Reinitialized existing Git repository in D:/iCloudDrive/Resumes/BA/ATS/Portfolio Projects/Demographic Analysis/mlproject-end-to-end/.git/\n"
     ]
    }
   ],
   "source": [
    "# Initialize Git in project directory:\n",
    "!git init"
   ]
  },
  {
   "cell_type": "code",
   "execution_count": null,
   "id": "7de3c081-2817-45a5-8ab4-fceb6efb1e92",
   "metadata": {},
   "outputs": [],
   "source": [
    "!git config --global core.autocrlf true\n",
    "!git rm --cached -r .\n",
    "!git reset --hard\n"
   ]
  },
  {
   "cell_type": "code",
   "execution_count": 5,
   "id": "aea552de-b741-4e4d-8641-0250396f6e79",
   "metadata": {},
   "outputs": [
    {
     "name": "stderr",
     "output_type": "stream",
     "text": [
      "warning: in the working copy of '.ipynb_checkpoints/mlproject-end-to-end-checkpoint.ipynb', LF will be replaced by CRLF the next time Git touches it\n",
      "warning: in the working copy of 'mlproject-end-to-end.ipynb', LF will be replaced by CRLF the next time Git touches it\n"
     ]
    }
   ],
   "source": [
    "# Add your files to the staging area:\n",
    "!git add ."
   ]
  },
  {
   "cell_type": "code",
   "execution_count": null,
   "id": "1097666c-f05a-448c-ab4d-db9e783429ab",
   "metadata": {},
   "outputs": [],
   "source": []
  }
 ],
 "metadata": {
  "kernelspec": {
   "display_name": "Python 3 (ipykernel)",
   "language": "python",
   "name": "python3"
  },
  "language_info": {
   "codemirror_mode": {
    "name": "ipython",
    "version": 3
   },
   "file_extension": ".py",
   "mimetype": "text/x-python",
   "name": "python",
   "nbconvert_exporter": "python",
   "pygments_lexer": "ipython3",
   "version": "3.11.5"
  }
 },
 "nbformat": 4,
 "nbformat_minor": 5
}

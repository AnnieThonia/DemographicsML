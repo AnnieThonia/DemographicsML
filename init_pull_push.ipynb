{
 "cells": [
  {
   "cell_type": "markdown",
   "id": "4b78e191-2788-45c9-aaaf-9beb6bcc0cb5",
   "metadata": {},
   "source": [
    "# Initialize Git, Pull and Push to GitHub"
   ]
  },
  {
   "cell_type": "code",
   "execution_count": null,
   "id": "a0a97362-6250-4e23-a2e8-91d4f034fb16",
   "metadata": {},
   "outputs": [],
   "source": [
    "# !pip install --upgrade jupyterlab jupyterlab-git"
   ]
  },
  {
   "cell_type": "code",
   "execution_count": 1,
   "id": "7e7d5f33-3f0e-4a9b-968d-cd1f90e386d4",
   "metadata": {},
   "outputs": [
    {
     "name": "stdout",
     "output_type": "stream",
     "text": [
      "Reinitialized existing Git repository in D:/iCloudDrive/Resumes/BA/ATS/Portfolio Projects/Demographic Analysis/mlproject-end-to-end/.git/\n",
      "Already up to date.\n"
     ]
    },
    {
     "name": "stderr",
     "output_type": "stream",
     "text": [
      "From https://github.com/AnnieThonia/mlproject-end-to-end\n",
      " * branch            main       -> FETCH_HEAD\n"
     ]
    }
   ],
   "source": [
    "# Initialize Git in your project directory:\n",
    "!git init\n",
    "!git pull origin main"
   ]
  },
  {
   "cell_type": "code",
   "execution_count": 4,
   "id": "9c9f86a0-1ae7-4c41-a99a-c9295f0e769c",
   "metadata": {},
   "outputs": [],
   "source": [
    "# Add your files to the staging area:\n",
    "!git config --global core.autocrlf false\n",
    "!git add ."
   ]
  },
  {
   "cell_type": "code",
   "execution_count": 5,
   "id": "99d9f4e4-f754-4060-8492-813bf5a7a4c4",
   "metadata": {},
   "outputs": [
    {
     "name": "stdout",
     "output_type": "stream",
     "text": [
      "[main f923093] first commit\n",
      " 69 files changed, 2099 insertions(+), 233 deletions(-)\n",
      " rename {src => logs}/logger.py (100%)\n",
      " create mode 100644 myenv1/Scripts/git-nbdiffdriver.exe\n",
      " create mode 100644 myenv1/Scripts/git-nbdifftool.exe\n",
      " create mode 100644 myenv1/Scripts/git-nbmergedriver.exe\n",
      " create mode 100644 myenv1/Scripts/git-nbmergetool.exe\n",
      " create mode 100644 myenv1/Scripts/hg-nbdiff.exe\n",
      " create mode 100644 myenv1/Scripts/hg-nbdiffweb.exe\n",
      " create mode 100644 myenv1/Scripts/hg-nbmerge.exe\n",
      " create mode 100644 myenv1/Scripts/hg-nbmergeweb.exe\n",
      " create mode 100644 myenv1/Scripts/nbdiff-web.exe\n",
      " create mode 100644 myenv1/Scripts/nbdiff.exe\n",
      " create mode 100644 myenv1/Scripts/nbdime.exe\n",
      " create mode 100644 myenv1/Scripts/nbmerge-web.exe\n",
      " create mode 100644 myenv1/Scripts/nbmerge.exe\n",
      " create mode 100644 myenv1/Scripts/nbshow.exe\n",
      " create mode 100644 myenv1/etc/jupyter/jupyter_notebook_config.d/nbdime.json\n",
      " create mode 100644 myenv1/etc/jupyter/jupyter_server_config.d/jupyter_server_mathjax.json\n",
      " create mode 100644 myenv1/etc/jupyter/jupyter_server_config.d/jupyterlab_git.json\n",
      " create mode 100644 myenv1/etc/jupyter/jupyter_server_config.d/nbdime.json\n",
      " create mode 100644 myenv1/etc/jupyter/nbconfig/notebook.d/nbdime.json\n",
      " create mode 100644 myenv1/share/jupyter/labextensions/@jupyterlab/git/install.json\n",
      " create mode 100644 myenv1/share/jupyter/labextensions/@jupyterlab/git/package.json\n",
      " create mode 100644 myenv1/share/jupyter/labextensions/@jupyterlab/git/schemas/@jupyterlab/git/package.json.orig\n",
      " create mode 100644 myenv1/share/jupyter/labextensions/@jupyterlab/git/schemas/@jupyterlab/git/plugin.json\n",
      " create mode 100644 myenv1/share/jupyter/labextensions/@jupyterlab/git/static/10.6b01aeeda69547263561.js\n",
      " create mode 100644 myenv1/share/jupyter/labextensions/@jupyterlab/git/static/122.5ba163cf07ee5ab4b45f.js\n",
      " create mode 100644 myenv1/share/jupyter/labextensions/@jupyterlab/git/static/171.3886234f49e694ae95b7.js\n",
      " create mode 100644 myenv1/share/jupyter/labextensions/@jupyterlab/git/static/242.ca107b156a41aa38af3c.js\n",
      " create mode 100644 myenv1/share/jupyter/labextensions/@jupyterlab/git/static/266.45b6171124f7c87df871.js\n",
      " create mode 100644 myenv1/share/jupyter/labextensions/@jupyterlab/git/static/27.96eaab30453ba73d0911.js\n",
      " create mode 100644 myenv1/share/jupyter/labextensions/@jupyterlab/git/static/282.d7c76becd5c65086b75b.js\n",
      " create mode 100644 myenv1/share/jupyter/labextensions/@jupyterlab/git/static/308.d52ce4044dcab14aeabc.js\n",
      " create mode 100644 myenv1/share/jupyter/labextensions/@jupyterlab/git/static/338.e6e982cc684fe40f637d.js\n",
      " create mode 100644 myenv1/share/jupyter/labextensions/@jupyterlab/git/static/338.e6e982cc684fe40f637d.js.LICENSE.txt\n",
      " create mode 100644 myenv1/share/jupyter/labextensions/@jupyterlab/git/static/378.ba25417c17d90ae2da47.js\n",
      " create mode 100644 myenv1/share/jupyter/labextensions/@jupyterlab/git/static/392.c5c9794b5ab642294edf.js\n",
      " create mode 100644 myenv1/share/jupyter/labextensions/@jupyterlab/git/static/405.a3174e55e00ed9436e42.js\n",
      " create mode 100644 myenv1/share/jupyter/labextensions/@jupyterlab/git/static/575.879317cc5dff08e50695.js\n",
      " create mode 100644 myenv1/share/jupyter/labextensions/@jupyterlab/git/static/612.8bf475b8be2d5fd16884.js\n",
      " create mode 100644 myenv1/share/jupyter/labextensions/@jupyterlab/git/static/638.6d2c72f086ba4411cf14.js\n",
      " create mode 100644 myenv1/share/jupyter/labextensions/@jupyterlab/git/static/66.0acb8c62ba019743ba5b.js\n",
      " create mode 100644 myenv1/share/jupyter/labextensions/@jupyterlab/git/static/66.0acb8c62ba019743ba5b.js.LICENSE.txt\n",
      " create mode 100644 myenv1/share/jupyter/labextensions/@jupyterlab/git/static/725.f68c9b248131f7920e24.js\n",
      " create mode 100644 myenv1/share/jupyter/labextensions/@jupyterlab/git/static/728.552705d5c0c271b81970.js\n",
      " create mode 100644 myenv1/share/jupyter/labextensions/@jupyterlab/git/static/747.30dabbfed4f4994e24bc.js\n",
      " create mode 100644 myenv1/share/jupyter/labextensions/@jupyterlab/git/static/846.a9161577f8b977644eaf.js\n",
      " create mode 100644 myenv1/share/jupyter/labextensions/@jupyterlab/git/static/881.42c4dde967f7d347bc86.js\n",
      " create mode 100644 myenv1/share/jupyter/labextensions/@jupyterlab/git/static/881.42c4dde967f7d347bc86.js.LICENSE.txt\n",
      " create mode 100644 myenv1/share/jupyter/labextensions/@jupyterlab/git/static/946.0b568842df5b992322e5.js\n",
      " create mode 100644 myenv1/share/jupyter/labextensions/@jupyterlab/git/static/967.2aaf8ca7c37a92081b62.js\n",
      " create mode 100644 myenv1/share/jupyter/labextensions/@jupyterlab/git/static/967.2aaf8ca7c37a92081b62.js.LICENSE.txt\n",
      " create mode 100644 myenv1/share/jupyter/labextensions/@jupyterlab/git/static/remoteEntry.9b08bf4afadafb4454e8.js\n",
      " create mode 100644 myenv1/share/jupyter/labextensions/@jupyterlab/git/static/style.js\n",
      " create mode 100644 myenv1/share/jupyter/labextensions/@jupyterlab/git/static/third-party-licenses.json\n",
      " create mode 100644 myenv1/share/jupyter/labextensions/nbdime-jupyterlab/package.json\n",
      " create mode 100644 myenv1/share/jupyter/labextensions/nbdime-jupyterlab/schemas/nbdime-jupyterlab/package.json.orig\n",
      " create mode 100644 myenv1/share/jupyter/labextensions/nbdime-jupyterlab/schemas/nbdime-jupyterlab/plugin.json\n",
      " create mode 100644 myenv1/share/jupyter/labextensions/nbdime-jupyterlab/static/204.3786a529841b519e5d5d.js\n",
      " create mode 100644 myenv1/share/jupyter/labextensions/nbdime-jupyterlab/static/324.0cfa28d7690db13a18b6.js\n",
      " create mode 100644 myenv1/share/jupyter/labextensions/nbdime-jupyterlab/static/426.bddb0c2da3cfe0585528.js\n",
      " create mode 100644 myenv1/share/jupyter/labextensions/nbdime-jupyterlab/static/513.2a37cfe0725cbaac9a70.js\n",
      " create mode 100644 myenv1/share/jupyter/labextensions/nbdime-jupyterlab/static/971.472368f83dff20e4fce9.js\n",
      " create mode 100644 myenv1/share/jupyter/labextensions/nbdime-jupyterlab/static/remoteEntry.370de6f77fd53f20b297.js\n",
      " create mode 100644 myenv1/share/jupyter/labextensions/nbdime-jupyterlab/static/style.js\n",
      " create mode 100644 myenv1/share/jupyter/labextensions/nbdime-jupyterlab/static/third-party-licenses.json\n",
      " create mode 100644 myenv1/share/jupyter/nbextensions/nbdime/index.js\n",
      " create mode 100644 myenv1/share/jupyter/nbextensions/nbdime/nbdime.yaml\n",
      " create mode 100644 notebooks/EDA.ipynb\n"
     ]
    },
    {
     "name": "stderr",
     "output_type": "stream",
     "text": [
      "error: remote origin already exists.\n"
     ]
    },
    {
     "name": "stdout",
     "output_type": "stream",
     "text": [
      "origin\thttps://github.com/AnnieThonia/mlproject-end-to-end.git (fetch)\n",
      "origin\thttps://github.com/AnnieThonia/mlproject-end-to-end.git (push)\n",
      "branch 'main' set up to track 'origin/main'.\n"
     ]
    },
    {
     "name": "stderr",
     "output_type": "stream",
     "text": [
      "To https://github.com/AnnieThonia/mlproject-end-to-end.git\n",
      "   7ea3684..f923093  main -> main\n"
     ]
    }
   ],
   "source": [
    "# Commit your changes:\n",
    "!git commit -m \"EDA & Model Training\" \n",
    "# Rename branch to main\n",
    "!git branch -M main \n",
    "!git remote add origin https://github.com/AnnieThonia/mlproject-end-to-end.git\n",
    "!git remote -v \n",
    "!git push -u origin main"
   ]
  },
  {
   "cell_type": "code",
   "execution_count": null,
   "id": "067b7559-5df8-44a5-be9e-c325135a2001",
   "metadata": {},
   "outputs": [],
   "source": []
  }
 ],
 "metadata": {
  "kernelspec": {
   "display_name": "Python 3 (ipykernel)",
   "language": "python",
   "name": "python3"
  },
  "language_info": {
   "codemirror_mode": {
    "name": "ipython",
    "version": 3
   },
   "file_extension": ".py",
   "mimetype": "text/x-python",
   "name": "python",
   "nbconvert_exporter": "python",
   "pygments_lexer": "ipython3",
   "version": "3.11.5"
  }
 },
 "nbformat": 4,
 "nbformat_minor": 5
}

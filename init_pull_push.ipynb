{
 "cells": [
  {
   "cell_type": "markdown",
   "id": "4b78e191-2788-45c9-aaaf-9beb6bcc0cb5",
   "metadata": {},
   "source": [
    "# Initialize Git, Pull and Push to GitHub"
   ]
  },
  {
   "cell_type": "code",
   "execution_count": null,
   "id": "a0a97362-6250-4e23-a2e8-91d4f034fb16",
   "metadata": {},
   "outputs": [],
   "source": [
    "# !pip install --upgrade jupyterlab jupyterlab-git"
   ]
  },
  {
   "cell_type": "code",
   "execution_count": 6,
   "id": "7e7d5f33-3f0e-4a9b-968d-cd1f90e386d4",
   "metadata": {},
   "outputs": [
    {
     "name": "stdout",
     "output_type": "stream",
     "text": [
      "Reinitialized existing Git repository in D:/iCloudDrive/Resumes/BA/ATS/Portfolio Projects/Demographic Analysis/mlproject-end-to-end/.git/\n",
      "Already up to date."
     ]
    },
    {
     "name": "stderr",
     "output_type": "stream",
     "text": [
      "From https://github.com/AnnieThonia/mlproject-end-to-end\n",
      " * branch            main       -> FETCH_HEAD\n"
     ]
    },
    {
     "name": "stdout",
     "output_type": "stream",
     "text": [
      "\n"
     ]
    }
   ],
   "source": [
    "# Initialize Git in your project directory:\n",
    "!git init\n",
    "!git pull origin main"
   ]
  },
  {
   "cell_type": "code",
   "execution_count": 7,
   "id": "9c9f86a0-1ae7-4c41-a99a-c9295f0e769c",
   "metadata": {},
   "outputs": [],
   "source": [
    "# Add your files to the staging area:\n",
    "!git config --global core.autocrlf false\n",
    "!git add .\n",
    "!git commit -m \"EDA\""
   ]
  },
  {
   "cell_type": "code",
   "execution_count": 10,
   "id": "99d9f4e4-f754-4060-8492-813bf5a7a4c4",
   "metadata": {},
   "outputs": [
    {
     "name": "stdout",
     "output_type": "stream",
     "text": [
      "On branch main\n",
      "Your branch is up to date with 'origin/main'.\n",
      "\n",
      "nothing to commit, working tree clean\n",
      "origin\thttps://github.com/AnnieThonia/mlproject-end-to-end.git (fetch)\n",
      "origin\thttps://github.com/AnnieThonia/mlproject-end-to-end.git (push)\n",
      "branch 'main' set up to track 'origin/main'.\n"
     ]
    },
    {
     "name": "stderr",
     "output_type": "stream",
     "text": [
      "Everything up-to-date\n"
     ]
    }
   ],
   "source": [
    "# Rename branch to main\n",
    "#!git branch -M main \n",
    "#!git remote add origin https://github.com/AnnieThonia/mlproject-end-to-end.git\n",
    "!git remote -v \n",
    "!git push -u origin main"
   ]
  },
  {
   "cell_type": "code",
   "execution_count": null,
   "id": "067b7559-5df8-44a5-be9e-c325135a2001",
   "metadata": {},
   "outputs": [],
   "source": []
  }
 ],
 "metadata": {
  "kernelspec": {
   "display_name": "Python 3 (ipykernel)",
   "language": "python",
   "name": "python3"
  },
  "language_info": {
   "codemirror_mode": {
    "name": "ipython",
    "version": 3
   },
   "file_extension": ".py",
   "mimetype": "text/x-python",
   "name": "python",
   "nbconvert_exporter": "python",
   "pygments_lexer": "ipython3",
   "version": "3.11.5"
  }
 },
 "nbformat": 4,
 "nbformat_minor": 5
}
